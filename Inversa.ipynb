{
 "cells": [
  {
   "cell_type": "code",
   "execution_count": null,
   "metadata": {
    "collapsed": true
   },
   "outputs": [],
   "source": [
    "def gauss_inversa(A):\n",
    "    '''\n",
    "    Executa o método de Gauss-Jordan para calcular a matriz inversa de A.\n",
    "    Parâmetros de entrada: A é uma matriz quadrada de ordem n.\n",
    "    Saída: Inv é a matriz inversa de A.\n",
    "    '''\n",
    "    # ESCREVA SEU CODIGO AQUI\n",
    "    n = len(A)\n",
    "    Inv = identidade(n)\n",
    "    for k in range(0,n):\n",
    "        ######### DIVIDE PELO PIVÔ ###############\n",
    "        for j in range(k+1,n):\n",
    "            A[k][j] = A [k][j]/A[k][k]\n",
    "        for j in range(0, n):    \n",
    "            Inv[k][j] = Inv[k][j]/A[k][k] \n",
    "        A[k][k] = 1\n",
    "        ######## TERMINA DIVIDE PELO PIVÔ#########\n",
    "        \n",
    "        for i in range(0,n):\n",
    "            if i != k:\n",
    "                m= A[i][k]/A[k][k]\n",
    "                for j in range(0,n):\n",
    "                    A[i][j] = A[i][j] - m* A[k][j]\n",
    "                    Inv[i][j] = Inv[i][j] - m* Inv[k][j]\n",
    "                A[i][k] = 0\n",
    "    return Inv\n",
    "    "
   ]
  }
 ],
 "metadata": {
  "kernelspec": {
   "display_name": "Python 3.6",
   "language": "python",
   "name": "python36"
  },
  "language_info": {
   "codemirror_mode": {
    "name": "ipython",
    "version": 3
   },
   "file_extension": ".py",
   "mimetype": "text/x-python",
   "name": "python",
   "nbconvert_exporter": "python",
   "pygments_lexer": "ipython3",
   "version": "3.6.3"
  }
 },
 "nbformat": 4,
 "nbformat_minor": 2
}
