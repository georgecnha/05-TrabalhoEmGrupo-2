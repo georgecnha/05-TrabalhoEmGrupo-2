{
 "cells": [
  {
   "cell_type": "code",
   "execution_count": null,
   "metadata": {},
   "outputs": [],
   "source": [
    "def identidade (n): #Cria Matriz identidade\n",
    "    I=[]\n",
    "    for i in range (n):\n",
    "        linha=[]\n",
    "        for j in range (n):\n",
    "            if j==i:\n",
    "                linha += [1]\n",
    "            else:\n",
    "                linha += [0]\n",
    "        I+=[linha]\n",
    "   \n",
    "    return (I)\n",
    "\n",
    "identidade(2)"
   ]
  },
  {
   "cell_type": "code",
   "execution_count": null,
   "metadata": {},
   "outputs": [],
   "source": [
    "def printM (M):   #Imprime Matriz\n",
    "    n=len(M)\n",
    "    for i in range (n):\n",
    "        print (M[i])\n",
    "        \n",
    "        \n",
    "printM(identidade(2))"
   ]
  },
  {
   "cell_type": "code",
   "execution_count": null,
   "metadata": {},
   "outputs": [],
   "source": [
    "def recebeA (n): #Recebe Matriz\n",
    "    A=[]\n",
    "    print('Os elementos da matriz são chamados a[i][j], sendo i as linhas e j as colunas.')\n",
    "    for i in range (n):\n",
    "        linha=[]\n",
    "        for j in range (n):\n",
    "            a=float(input('Insira o valor de a[{}][{}]: '.format(i+1,j+1)))\n",
    "            linha.append(a)\n",
    "        A+=[linha]\n",
    "    printM(A)\n",
    "    \n",
    "recebeA(2)"
   ]
  },
  {
   "cell_type": "code",
   "execution_count": 17,
   "metadata": {},
   "outputs": [
    {
     "name": "stdout",
     "output_type": "stream",
     "text": [
      "Os elementos da matriz são chamados b[i], sendo i as linhas e j as colunas.\n",
      "Insira o valor de b[1]: 1\n",
      "Insira o valor de b[2]: 2\n"
     ]
    },
    {
     "data": {
      "text/plain": [
       "[1.0, 2.0]"
      ]
     },
     "execution_count": 17,
     "metadata": {},
     "output_type": "execute_result"
    }
   ],
   "source": [
    "def recebeB(n):\n",
    "    B=[]\n",
    "    print('Os elementos da matriz são chamados b[i], sendo i as linhas e j as colunas.')\n",
    "    for i in range (0,n):\n",
    "        a=float(input('Insira o valor de b[{}]: '.format(i+1)))\n",
    "        B+=[a]\n",
    "    return(B)\n",
    "recebeB(2)"
   ]
  },
  {
   "cell_type": "code",
   "execution_count": null,
   "metadata": {},
   "outputs": [],
   "source": []
  },
  {
   "cell_type": "markdown",
   "metadata": {},
   "source": []
  }
 ],
 "metadata": {
  "kernelspec": {
   "display_name": "Python 3.6",
   "language": "python",
   "name": "python36"
  },
  "language_info": {
   "codemirror_mode": {
    "name": "ipython",
    "version": 3
   },
   "file_extension": ".py",
   "mimetype": "text/x-python",
   "name": "python",
   "nbconvert_exporter": "python",
   "pygments_lexer": "ipython3",
   "version": "3.6.3"
  }
 },
 "nbformat": 4,
 "nbformat_minor": 2
}
